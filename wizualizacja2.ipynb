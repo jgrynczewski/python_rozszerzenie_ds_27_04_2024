{
 "cells": [
  {
   "cell_type": "markdown",
   "id": "cdc62a72-9f9d-4825-94dd-0d1ca67e30d7",
   "metadata": {},
   "source": [
    "### Co możemy reprezentować za pomocą trójwymiarowej tablicy?"
   ]
  },
  {
   "cell_type": "code",
   "execution_count": null,
   "id": "af39cca6-ad73-48d7-8cf0-9fcc2beeeddf",
   "metadata": {},
   "outputs": [],
   "source": [
    "import numpy as np"
   ]
  },
  {
   "cell_type": "code",
   "execution_count": null,
   "id": "5efeaa8e-228b-41f9-b4ee-ddd4fe29af9b",
   "metadata": {},
   "outputs": [],
   "source": [
    "# Co może reprezentować poniższa tablica?\n",
    "\n",
    "n = np.array(\n",
    "    [\n",
    "        [\n",
    "            [0, 1, 2, 3, 4],\n",
    "            [5, 6, 7, 8, 9]\n",
    "        ],\n",
    "        [\n",
    "            [10, 11, 12, 13, 14],\n",
    "            [15, 16, 17, 18, 19]\n",
    "        ],\n",
    "        [\n",
    "            [20, 21, 22, 23, 24],\n",
    "            [25, 26, 27, 28, 29]\n",
    "        ]\n",
    "    ]\n",
    ")\n",
    "\n",
    "print(n.shape)"
   ]
  },
  {
   "cell_type": "code",
   "execution_count": null,
   "id": "db1b70a3-fed5-4dda-8703-2995b514560e",
   "metadata": {},
   "outputs": [],
   "source": [
    "import matplotlib.pyplot as plt"
   ]
  },
  {
   "cell_type": "code",
   "execution_count": null,
   "id": "69f3b348-1b2c-456e-918c-0697f57c8942",
   "metadata": {},
   "outputs": [],
   "source": [
    "# wczytajmy obraz z pliku\n"
   ]
  },
  {
   "cell_type": "code",
   "execution_count": null,
   "id": "87787628-f3b2-4ba7-bea7-3677cd2617e0",
   "metadata": {},
   "outputs": [],
   "source": [
    "# Co to za typ?\n"
   ]
  },
  {
   "cell_type": "code",
   "execution_count": null,
   "id": "55623548-4598-4543-b64e-9c2405c5e1a4",
   "metadata": {},
   "outputs": [],
   "source": [
    "# Jaki ma kształt\n"
   ]
  },
  {
   "cell_type": "code",
   "execution_count": null,
   "id": "60bd24d5-09e7-4f14-8d7b-d5365f6228de",
   "metadata": {},
   "outputs": [],
   "source": [
    "# wyświetlmy tą tablicę\n"
   ]
  },
  {
   "cell_type": "code",
   "execution_count": null,
   "id": "95428a81-b5f0-4f9a-92ef-1aa7b870d5cd",
   "metadata": {},
   "outputs": [],
   "source": [
    "# Wyzerujmy wszystkie kanały prócz ostatniego (niebieskiego)\n"
   ]
  },
  {
   "cell_type": "code",
   "execution_count": null,
   "id": "ce1895ea-ad8c-43f3-bbde-e55986aad965",
   "metadata": {},
   "outputs": [],
   "source": [
    "# Wyświetlmy zmodyfikowaną tablicę\n"
   ]
  },
  {
   "cell_type": "code",
   "execution_count": null,
   "id": "78281efb-2c02-44bb-8480-60ddb6cd6605",
   "metadata": {},
   "outputs": [],
   "source": [
    "# Wyzerujmy pierwszy kanał (zerujemy czerwony, zielony i niebieski zostają niezmienione)\n"
   ]
  },
  {
   "cell_type": "code",
   "execution_count": null,
   "id": "f834f352-196f-4a1c-b7c8-1d7a44378c73",
   "metadata": {},
   "outputs": [],
   "source": [
    "# Wyświetlmy zmodyfikowaną tablicę\n"
   ]
  },
  {
   "cell_type": "code",
   "execution_count": null,
   "id": "2c490ebf-1e71-4c0c-91ee-6bd60ac9afaa",
   "metadata": {},
   "outputs": [],
   "source": [
    "# odwrócmy kolejność kolumn\n"
   ]
  },
  {
   "cell_type": "code",
   "execution_count": null,
   "id": "e6f7aee3-3f3d-41f2-af90-1a4d56df2f66",
   "metadata": {},
   "outputs": [],
   "source": [
    "# Wyświetlmy zmodyfikowaną tablicę\n"
   ]
  },
  {
   "cell_type": "code",
   "execution_count": null,
   "id": "20b249c6-63fe-4770-a3a5-578df5fd3050",
   "metadata": {},
   "outputs": [],
   "source": [
    "# odwrócmy kolejność wierszy\n"
   ]
  },
  {
   "cell_type": "code",
   "execution_count": null,
   "id": "a5e0d32c-cfec-457a-98a7-36a67d2bc203",
   "metadata": {},
   "outputs": [],
   "source": [
    "# Wyświetlmy zmodyfikowaną tablicę\n"
   ]
  },
  {
   "cell_type": "code",
   "execution_count": null,
   "id": "cea6af87-aff0-46fe-a9fb-5e10eb0ad13e",
   "metadata": {},
   "outputs": [],
   "source": [
    "# odwrócmy kolejność wierszy i kolumn\n"
   ]
  },
  {
   "cell_type": "code",
   "execution_count": null,
   "id": "4060824a-b3aa-445b-b0b1-4dd5e45b6441",
   "metadata": {},
   "outputs": [],
   "source": [
    "# Wyświetlmy zmodyfikowaną tablicę\n"
   ]
  },
  {
   "cell_type": "code",
   "execution_count": null,
   "id": "cd7d9272-ae00-4d3d-896a-ec193c6ff8c6",
   "metadata": {},
   "outputs": [],
   "source": [
    "# odwrócmy kolejność kolorów\n"
   ]
  },
  {
   "cell_type": "code",
   "execution_count": null,
   "id": "828a1c86-024f-4531-b88d-d2f690331039",
   "metadata": {},
   "outputs": [],
   "source": [
    "# Wyświetlmy zmodyfikowaną tablicę\n"
   ]
  },
  {
   "cell_type": "code",
   "execution_count": null,
   "id": "19146df6-f7ba-4656-b75c-63b55728437d",
   "metadata": {},
   "outputs": [],
   "source": [
    "# negatyw ?\n"
   ]
  },
  {
   "cell_type": "code",
   "execution_count": null,
   "id": "563f5faf-da89-40d0-b377-dbcf859388aa",
   "metadata": {},
   "outputs": [],
   "source": [
    "# Wyświetlmy zmodyfikowaną tablicę\n"
   ]
  },
  {
   "cell_type": "markdown",
   "id": "d8d4f080-0ee3-40df-8a97-8056a53fa889",
   "metadata": {},
   "source": [
    "#### Zadanie \n",
    "\n",
    "---\n",
    "\n",
    "Wykorzystując poznane narzędzia załaduj jakiś obraz () a następnie zmodyfikuj go na kilka sposobów. Wykonując modyfikacje\n",
    "myśl o nich w kategori operacji na macierzach / tablicach numpy."
   ]
  }
 ],
 "metadata": {
  "kernelspec": {
   "display_name": "Python 3 (ipykernel)",
   "language": "python",
   "name": "python3"
  },
  "language_info": {
   "codemirror_mode": {
    "name": "ipython",
    "version": 3
   },
   "file_extension": ".py",
   "mimetype": "text/x-python",
   "name": "python",
   "nbconvert_exporter": "python",
   "pygments_lexer": "ipython3",
   "version": "3.11.1"
  }
 },
 "nbformat": 4,
 "nbformat_minor": 5
}
